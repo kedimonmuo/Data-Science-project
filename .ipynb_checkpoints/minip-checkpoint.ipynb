{
 "cells": [
  {
   "cell_type": "code",
   "execution_count": 3,
   "id": "2c457d17",
   "metadata": {},
   "outputs": [],
   "source": [
    "import pandas as pd\n",
    "import numpy as np\n",
    "import matplotlib as plt\n",
    "\n",
    "import math\n",
    "import time\n",
    "import resource\n",
    "import sys"
   ]
  },
  {
   "cell_type": "code",
   "execution_count": null,
   "id": "af388fe2",
   "metadata": {},
   "outputs": [],
   "source": [
    "#Let's use a loop!"
   ]
  },
  {
   "cell_type": "code",
   "execution_count": 9,
   "id": "03a5ef46",
   "metadata": {},
   "outputs": [],
   "source": [
    "time_start = time.perf_counter()\n",
    "\n",
    "#dont know what the code below 'sys'does. ??"
   ]
  },
  {
   "cell_type": "code",
   "execution_count": 10,
   "id": "b56cae62",
   "metadata": {},
   "outputs": [],
   "source": [
    "def factorial(n):\n",
    "    return math.factorial(n)"
   ]
  },
  {
   "cell_type": "code",
   "execution_count": 11,
   "id": "2d7f2ff0",
   "metadata": {},
   "outputs": [
    {
     "name": "stdout",
     "output_type": "stream",
     "text": [
      "2499950000\n"
     ]
    }
   ],
   "source": [
    "test_list = list(range(1, 100000))\n",
    "result = []\n",
    "\n",
    "for i in range(len(test_list)) :\n",
    "    if test_list[i] % 2 == 0:\n",
    "        result.append(test_list[i]) \n",
    "        \n",
    "print(sum(result))"
   ]
  },
  {
   "cell_type": "code",
   "execution_count": 12,
   "id": "e954745b",
   "metadata": {},
   "outputs": [],
   "source": [
    "#Time and memeory usage check:\n",
    "time_elapsed = (time.perf_counter() - time_start)\n",
    "\n",
    "memMb = resource.getrusage(resource.RUSAGE_SELF).ru_maxrss/1024.0/1024.0"
   ]
  },
  {
   "cell_type": "code",
   "execution_count": 13,
   "id": "b6ee259f",
   "metadata": {},
   "outputs": [
    {
     "name": "stdout",
     "output_type": "stream",
     "text": [
      "6.738943 secs 107.867188 MByte\n"
     ]
    }
   ],
   "source": [
    "print (\"%f secs %f MByte\" % (time_elapsed,memMb))"
   ]
  },
  {
   "cell_type": "code",
   "execution_count": null,
   "id": "4003dbac",
   "metadata": {},
   "outputs": [],
   "source": []
  },
  {
   "cell_type": "code",
   "execution_count": null,
   "id": "6c541bfb",
   "metadata": {},
   "outputs": [],
   "source": []
  }
 ],
 "metadata": {
  "kernelspec": {
   "display_name": "Python 3 (ipykernel)",
   "language": "python",
   "name": "python3"
  },
  "language_info": {
   "codemirror_mode": {
    "name": "ipython",
    "version": 3
   },
   "file_extension": ".py",
   "mimetype": "text/x-python",
   "name": "python",
   "nbconvert_exporter": "python",
   "pygments_lexer": "ipython3",
   "version": "3.9.13"
  }
 },
 "nbformat": 4,
 "nbformat_minor": 5
}
